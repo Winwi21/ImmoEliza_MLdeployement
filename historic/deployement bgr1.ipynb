{
 "cells": [
  {
   "cell_type": "code",
   "execution_count": 5,
   "id": "b9db2b6f",
   "metadata": {},
   "outputs": [],
   "source": [
    "from fastapi import FastAPI\n",
    "from pydantic import BaseModel\n",
    "import joblib\n",
    "import pandas as pd\n",
    "import uvicorn"
   ]
  },
  {
   "cell_type": "code",
   "execution_count": 6,
   "id": "04c524c6",
   "metadata": {},
   "outputs": [],
   "source": [
    "model = joblib.load(\"gbr1_modele.pkl\")"
   ]
  },
  {
   "cell_type": "code",
   "execution_count": 8,
   "id": "ec8493f7",
   "metadata": {},
   "outputs": [],
   "source": [
    "class InputData(BaseModel):\n",
    "    type: str\n",
    "    subtype: str\n",
    "    bedroomCount: float\n",
    "    bathroomCount: float\n",
    "    locality: str\n",
    "    postCode: int\n",
    "    habitableSurface: float\n",
    "    buildingCondition: str\n",
    "    buildingConstructionYear: float\n",
    "    facedeCount: float\n",
    "    heatingType: str\n",
    "    kitchenType: str\n",
    "    hasLivingRoom: int\n",
    "    toiletCount: float\n",
    "    hasTerrace: int\n",
    "    epcScore: str"
   ]
  },
  {
   "cell_type": "code",
   "execution_count": 9,
   "id": "e30193af",
   "metadata": {},
   "outputs": [],
   "source": [
    "app = FastAPI()\n",
    "\n",
    "@app.post(\"/predict\")\n",
    "def predict(data: InputData):\n",
    "    input_df = pd.DataFrame([data.dict()])\n",
    "    prediction = model.predict(input_df)\n",
    "    return {\"predicted_price\": prediction[0]}"
   ]
  }
 ],
 "metadata": {
  "kernelspec": {
   "display_name": "Python 3",
   "language": "python",
   "name": "python3"
  },
  "language_info": {
   "codemirror_mode": {
    "name": "ipython",
    "version": 3
   },
   "file_extension": ".py",
   "mimetype": "text/x-python",
   "name": "python",
   "nbconvert_exporter": "python",
   "pygments_lexer": "ipython3",
   "version": "3.13.3"
  }
 },
 "nbformat": 4,
 "nbformat_minor": 5
}
