{
 "cells": [
  {
   "cell_type": "code",
   "execution_count": 10,
   "id": "22d83752",
   "metadata": {},
   "outputs": [],
   "source": [
    "import numpy as np \n",
    "import pandas as pd "
   ]
  },
  {
   "cell_type": "code",
   "execution_count": 30,
   "id": "eb6d3374",
   "metadata": {},
   "outputs": [],
   "source": [
    "data = 'Kangaroo.csv'\n",
    "Kangaroo = pd.read_csv(data, sep = ',')\n",
    "df = pd.DataFrame(Kangaroo)\n",
    "\n"
   ]
  },
  {
   "cell_type": "code",
   "execution_count": 31,
   "id": "c7b2976f",
   "metadata": {},
   "outputs": [],
   "source": [
    "duplicates = df.duplicated()\n",
    "df.drop_duplicates(inplace=True)\n"
   ]
  },
  {
   "cell_type": "code",
   "execution_count": 32,
   "id": "c63a0b59",
   "metadata": {},
   "outputs": [
    {
     "name": "stdout",
     "output_type": "stream",
     "text": [
      "Unnamed: 0                    0.00\n",
      "id                            0.00\n",
      "url                           0.00\n",
      "type                          0.00\n",
      "subtype                       0.00\n",
      "bedroomCount                  8.47\n",
      "bathroomCount                17.04\n",
      "province                      0.00\n",
      "locality                      0.00\n",
      "postCode                      0.00\n",
      "habitableSurface             15.66\n",
      "roomCount                    72.69\n",
      "monthlyCost                 100.00\n",
      "hasAttic                     84.43\n",
      "hasBasement                  63.52\n",
      "hasDressingRoom              96.73\n",
      "diningRoomSurface            91.41\n",
      "hasDiningRoom                82.40\n",
      "buildingCondition            27.84\n",
      "buildingConstructionYear     38.90\n",
      "facedeCount                  33.76\n",
      "floorCount                   53.28\n",
      "streetFacadeWidth            80.70\n",
      "hasLift                      76.30\n",
      "floodZoneType                44.67\n",
      "heatingType                  41.33\n",
      "hasHeatPump                  90.70\n",
      "hasPhotovoltaicPanels        89.99\n",
      "hasThermicPanels             96.13\n",
      "kitchenSurface               69.81\n",
      "kitchenType                  47.84\n",
      "landSurface                  50.80\n",
      "hasLivingRoom                46.65\n",
      "livingRoomSurface            63.98\n",
      "hasBalcony                  100.00\n",
      "hasGarden                    80.14\n",
      "gardenSurface                80.14\n",
      "gardenOrientation            93.03\n",
      "parkingCountIndoor           64.86\n",
      "parkingCountOutdoor          77.20\n",
      "hasAirConditioning           98.60\n",
      "hasArmoredDoor               95.40\n",
      "hasVisiophone                80.10\n",
      "hasOffice                    87.08\n",
      "toiletCount                  31.45\n",
      "hasSwimmingPool              97.74\n",
      "hasFireplace                 96.21\n",
      "hasTerrace                   40.99\n",
      "terraceSurface               64.41\n",
      "terraceOrientation           85.99\n",
      "accessibleDisabledPeople    100.00\n",
      "epcScore                     18.64\n",
      "price                         4.97\n",
      "dtype: float64\n"
     ]
    }
   ],
   "source": [
    "na_values = df.isnull().sum()\n",
    "missing_percent = (na_values/ len(df)) * 100\n",
    "print (missing_percent.round(2))"
   ]
  },
  {
   "cell_type": "code",
   "execution_count": 33,
   "id": "f536e6a0",
   "metadata": {},
   "outputs": [
    {
     "name": "stdout",
     "output_type": "stream",
     "text": [
      "<bound method DataFrame.info of        Unnamed: 0          id  \\\n",
      "0               0  20661494.0   \n",
      "1               1  20647642.0   \n",
      "2               2  20644816.0   \n",
      "3               3  20659813.0   \n",
      "4               4  20633249.0   \n",
      "...           ...         ...   \n",
      "80363      440319  20663057.0   \n",
      "80364      440364  20664347.0   \n",
      "80365      440966  20664354.0   \n",
      "80366      442237  20664377.0   \n",
      "80367      446550  20664387.0   \n",
      "\n",
      "                                                     url       type  \\\n",
      "0      https://www.immoweb.be/en/classified/apartment...  APARTMENT   \n",
      "1      https://www.immoweb.be/en/classified/house/for...      HOUSE   \n",
      "2      https://www.immoweb.be/en/classified/apartment...  APARTMENT   \n",
      "3      https://www.immoweb.be/en/classified/apartment...  APARTMENT   \n",
      "4      https://www.immoweb.be/en/classified/flat-stud...  APARTMENT   \n",
      "...                                                  ...        ...   \n",
      "80363  https://www.immoweb.be/en/classified/villa/for...      HOUSE   \n",
      "80364  https://www.immoweb.be/en/classified/apartment...  APARTMENT   \n",
      "80365  https://www.immoweb.be/en/classified/apartment...  APARTMENT   \n",
      "80366  https://www.immoweb.be/en/classified/apartment...  APARTMENT   \n",
      "80367  https://www.immoweb.be/en/classified/apartment...  APARTMENT   \n",
      "\n",
      "           subtype  bedroomCount  bathroomCount         province  \\\n",
      "0        APARTMENT           2.0            1.0         Brussels   \n",
      "1            HOUSE           4.0            2.0         Brussels   \n",
      "2        APARTMENT           2.0            1.0         Brussels   \n",
      "3        APARTMENT           2.0            2.0         Brussels   \n",
      "4      FLAT_STUDIO           1.0            1.0         Brussels   \n",
      "...            ...           ...            ...              ...   \n",
      "80363        VILLA           3.0            1.0          Antwerp   \n",
      "80364    APARTMENT           3.0            1.0         Brussels   \n",
      "80365    APARTMENT           3.0            1.0  Flemish Brabant   \n",
      "80366    APARTMENT           3.0            2.0    West Flanders   \n",
      "80367    APARTMENT           3.0            2.0          Antwerp   \n",
      "\n",
      "                         locality  postCode  ...  buildingConstructionYear  \\\n",
      "0                       Etterbeek      1040  ...                    2004.0   \n",
      "1                       Etterbeek      1040  ...                    1910.0   \n",
      "2                       Etterbeek      1040  ...                    1970.0   \n",
      "3                       Bruxelles      1040  ...                    2018.0   \n",
      "4                       Etterbeek      1040  ...                    1906.0   \n",
      "...                           ...       ...  ...                       ...   \n",
      "80363                  Willebroek      2830  ...                    2008.0   \n",
      "80364                       Jette      1090  ...                    1970.0   \n",
      "80365  Grimbergen Strombeek-Bever      1853  ...                    1964.0   \n",
      "80366                    Westende      8434  ...                       NaN   \n",
      "80367                     Wilrijk      2610  ...                    1964.0   \n",
      "\n",
      "      facedeCount          floodZoneType  heatingType     kitchenType  \\\n",
      "0             1.0         NON_FLOOD_ZONE          GAS   SEMI_EQUIPPED   \n",
      "1             2.0         NON_FLOOD_ZONE      FUELOIL       INSTALLED   \n",
      "2             2.0                    NaN      FUELOIL  HYPER_EQUIPPED   \n",
      "3             NaN  RECOGNIZED_FLOOD_ZONE          GAS  HYPER_EQUIPPED   \n",
      "4             2.0         NON_FLOOD_ZONE          GAS       INSTALLED   \n",
      "...           ...                    ...          ...             ...   \n",
      "80363         4.0         NON_FLOOD_ZONE          NaN             NaN   \n",
      "80364         4.0         NON_FLOOD_ZONE          GAS   SEMI_EQUIPPED   \n",
      "80365         NaN                    NaN          GAS  HYPER_EQUIPPED   \n",
      "80366         NaN                    NaN          GAS             NaN   \n",
      "80367         NaN         NON_FLOOD_ZONE          NaN             NaN   \n",
      "\n",
      "      hasLivingRoom toiletCount hasTerrace  epcScore     price  \n",
      "0              True         1.0       True         C  399000.0  \n",
      "1              True         3.0       True         E  895000.0  \n",
      "2              True         1.0       True         F  465000.0  \n",
      "3              True         2.0       True         B  590000.0  \n",
      "4               NaN         1.0        NaN         E  289000.0  \n",
      "...             ...         ...        ...       ...       ...  \n",
      "80363          True         3.0       True         B  849000.0  \n",
      "80364          True         1.0       True         D  279000.0  \n",
      "80365          True         1.0       True         B  299000.0  \n",
      "80366          True         2.0       True         A  325000.0  \n",
      "80367          True         2.0       True         B  340000.0  \n",
      "\n",
      "[80368 rows x 22 columns]>\n"
     ]
    }
   ],
   "source": [
    "for col in df.columns:\n",
    "    if missing_percent[col] > 50:\n",
    "        df.drop(columns=col, inplace=True)\n",
    "print(df.info)"
   ]
  },
  {
   "cell_type": "code",
   "execution_count": 34,
   "id": "1360f381",
   "metadata": {},
   "outputs": [
    {
     "name": "stdout",
     "output_type": "stream",
     "text": [
      "               id       type      subtype  bedroomCount  \\\n",
      "0      20661494.0  APARTMENT    APARTMENT           2.0   \n",
      "1      20647642.0      HOUSE        HOUSE           4.0   \n",
      "2      20644816.0  APARTMENT    APARTMENT           2.0   \n",
      "3      20659813.0  APARTMENT    APARTMENT           2.0   \n",
      "4      20633249.0  APARTMENT  FLAT_STUDIO           1.0   \n",
      "...           ...        ...          ...           ...   \n",
      "80363  20663057.0      HOUSE        VILLA           3.0   \n",
      "80364  20664347.0  APARTMENT    APARTMENT           3.0   \n",
      "80365  20664354.0  APARTMENT    APARTMENT           3.0   \n",
      "80366  20664377.0  APARTMENT    APARTMENT           3.0   \n",
      "80367  20664387.0  APARTMENT    APARTMENT           3.0   \n",
      "\n",
      "                         locality  postCode  habitableSurface  \\\n",
      "0                       Etterbeek      1040             100.0   \n",
      "1                       Etterbeek      1040             270.0   \n",
      "2                       Etterbeek      1040              87.0   \n",
      "3                       Bruxelles      1040             104.0   \n",
      "4                       Etterbeek      1040              71.0   \n",
      "...                           ...       ...               ...   \n",
      "80363                  Willebroek      2830             252.0   \n",
      "80364                       Jette      1090              94.0   \n",
      "80365  Grimbergen Strombeek-Bever      1853             113.0   \n",
      "80366                    Westende      8434             111.0   \n",
      "80367                     Wilrijk      2610             132.0   \n",
      "\n",
      "      buildingCondition  facedeCount     price  \n",
      "0                  GOOD          1.0  399000.0  \n",
      "1         TO_BE_DONE_UP          2.0  895000.0  \n",
      "2                AS_NEW          2.0  465000.0  \n",
      "3                AS_NEW          NaN  590000.0  \n",
      "4                AS_NEW          2.0  289000.0  \n",
      "...                 ...          ...       ...  \n",
      "80363            AS_NEW          4.0  849000.0  \n",
      "80364              GOOD          4.0  279000.0  \n",
      "80365              GOOD          NaN  299000.0  \n",
      "80366    JUST_RENOVATED          NaN  325000.0  \n",
      "80367              GOOD          NaN  340000.0  \n",
      "\n",
      "[80368 rows x 10 columns]\n"
     ]
    }
   ],
   "source": [
    "#Remove unuseful and unrelevant columns: \n",
    "df = df.drop(columns=['url','kitchenType','toiletCount','buildingConstructionYear','heatingType', 'floodZoneType','province','hasLivingRoom','hasTerrace','bathroomCount','epcScore'  ], errors='ignore')\n",
    "df.drop(columns=['Unnamed: 0'], inplace=True)\n",
    "print(df)"
   ]
  },
  {
   "cell_type": "code",
   "execution_count": 35,
   "id": "4e693e8a",
   "metadata": {},
   "outputs": [
    {
     "name": "stdout",
     "output_type": "stream",
     "text": [
      "(80368, 10)\n",
      "Index(['id', 'type', 'subtype', 'bedroomCount', 'locality', 'postCode',\n",
      "       'habitableSurface', 'buildingCondition', 'facedeCount', 'price'],\n",
      "      dtype='object')\n"
     ]
    }
   ],
   "source": [
    "print(df.shape)\n",
    "print(df.columns)"
   ]
  },
  {
   "cell_type": "code",
   "execution_count": 36,
   "id": "a2c2bfc8",
   "metadata": {},
   "outputs": [
    {
     "name": "stdout",
     "output_type": "stream",
     "text": [
      "['FLAT' 'DUPLEX' 'PENTHOUSE' 'TRIPLEX' 'LOFT' 'KOT']\n",
      "['HOUSE' 'APARTMENT_BLOCK' 'EXCEPTIONAL_PROPERTY' 'OTHER_PROPERTY']\n"
     ]
    }
   ],
   "source": [
    "subtype_map = {\n",
    "    'APARTMENT': 'FLAT',\n",
    "    'FLAT_STUDIO' : 'FLAT',\n",
    "    'SERVICE_FLAT' : 'FLAT',\n",
    "    'DUPLEX' : 'DUPLEX',\n",
    "    'PENTHOUSE' : 'PENTHOUSE',\n",
    "    'GROUND_FLOOR' : 'FLAT',\n",
    "    'TRIPLEX' : 'TRIPLEX',\n",
    "    'LOFT' : 'LOFT',\n",
    "    'KOT' : 'KOT', \n",
    "    'HOUSE' : 'HOUSE', \n",
    "    'APARTMENT_BLOCK' : 'APARTMENT_BLOCK',\n",
    "    'MANSION' : 'HOUSE',\n",
    "    'EXCEPTIONAL_PROPERTY' : 'EXCEPTIONAL_PROPERTY',\n",
    "    'MIXED_USE_BUILDING' : 'OTHER_PROPERTY',\n",
    "    'VILLA' : 'HOUSE',\n",
    "    'TOWN_HOUSE' : 'HOUSE',\n",
    "    'CHALET' : 'OTHER_PROPERTY',\n",
    "    'MANOR_HOUSE' : 'OTHER_PROPERTY',\n",
    "    'FARMHOUSE' : 'OTHER_PROPERTY',\n",
    "    'BUNGALOW': 'OTHER_PROPERTY',\n",
    "    'COUNTRY_COTTAGE' : 'OTHER_PROPERTY',\n",
    "    'OTHER_PROPERTY':'OTHER_PROPERTY', \n",
    "    'CASTLE' : 'EXCEPTIONAL_PROPERTY',\n",
    "    'PAVILION' : 'EXCEPTIONAL_PROPERTY'}\n",
    "\n",
    "df['subtype'] = df['subtype'].replace(subtype_map)\n",
    "app = df.loc[df['type'] == 'APARTMENT', 'subtype'].unique()\n",
    "house = df.loc[df['type'] == 'HOUSE', 'subtype'].unique()\n",
    "print (app)\n",
    "print(house)"
   ]
  },
  {
   "cell_type": "code",
   "execution_count": null,
   "id": "43bdf777",
   "metadata": {},
   "outputs": [],
   "source": [
    "df['facedeCount'] = df['facedeCount'].fillna(df['facedeCount'].mode()[0])\n",
    "df['buildingCondition'] = df['buildingCondition'].fillna(df['buildingCondition'].mode()[0])\n",
    "df.loc[(df['type'] == 'APARTMENT') & (df['habitableSurface'].isna()), 'habitableSurface'] = 90.0\n",
    "df.loc[(df['type'] == 'HOUSE') & (df['habitableSurface'].isna()), 'habitableSurface'] = 170.0"
   ]
  },
  {
   "cell_type": "code",
   "execution_count": 41,
   "id": "53175394",
   "metadata": {},
   "outputs": [],
   "source": [
    "mode_appart = df.loc[df['type'] == 'APARTMENT', 'bedroomCount'].mode()[0]\n",
    "mode_house = df.loc[df['type'] == 'HOUSE', 'bedroomCount'].mode()[0]\n",
    "df.loc[(df['type'] == 'APARTMENT') & (df['bedroomCount'].isnull()), 'bedroomCount'] = mode_appart\n",
    "df.loc[(df['type'] == 'HOUSE') & (df['bedroomCount'].isnull()), 'bedroomCount'] = mode_house"
   ]
  },
  {
   "cell_type": "code",
   "execution_count": 43,
   "id": "baa9d506",
   "metadata": {},
   "outputs": [],
   "source": [
    "# Delete row for house_group and apartment_group\n",
    "df = df[~df['type'].isin(['HOUSE_GROUP', 'APARTMENT_GROUP'])]"
   ]
  },
  {
   "cell_type": "code",
   "execution_count": 45,
   "id": "780ef041",
   "metadata": {},
   "outputs": [
    {
     "name": "stdout",
     "output_type": "stream",
     "text": [
      "               id       type subtype  bedroomCount              locality  \\\n",
      "3675   20556291.0      HOUSE   HOUSE           3.0  Molenbeek-Saint-Jean   \n",
      "14535  20074609.0      HOUSE   HOUSE           5.0              LA HULPE   \n",
      "15701  20612054.0      HOUSE   HOUSE           4.0                 MÉLIN   \n",
      "24191  20652512.0      HOUSE   HOUSE           3.0        Wechelderzande   \n",
      "42798  20515916.0  APARTMENT    FLAT           1.0                   HUY   \n",
      "47140  20598848.0      HOUSE   HOUSE           3.0              Waulsort   \n",
      "61224  11349721.0  APARTMENT    FLAT           2.0              Oostende   \n",
      "75452  20612384.0      HOUSE   HOUSE           2.0             Erpe-Mere   \n",
      "\n",
      "       postCode  habitableSurface buildingCondition  facedeCount  price  \n",
      "3675       1080             170.0              GOOD          2.0    0.0  \n",
      "14535      1310             212.0              GOOD          2.0    0.0  \n",
      "15701      1370             225.0              GOOD          4.0    0.0  \n",
      "24191      2275             170.0              GOOD          4.0    0.0  \n",
      "42798      4500              40.0              GOOD          2.0    0.0  \n",
      "47140      5540             170.0       TO_RENOVATE          3.0    0.0  \n",
      "61224      8400              90.0            AS_NEW          2.0    0.0  \n",
      "75452      9420             170.0              GOOD          2.0    0.0  \n"
     ]
    },
    {
     "data": {
      "text/plain": [
       "(8, 10)"
      ]
     },
     "execution_count": 45,
     "metadata": {},
     "output_type": "execute_result"
    }
   ],
   "source": [
    "df['price'] = df['price'].fillna(0)\n",
    "df_zero_price = df[df['price'] == 0]\n",
    "print(df_zero_price)\n",
    "df_zero_price.shape"
   ]
  },
  {
   "cell_type": "code",
   "execution_count": 46,
   "id": "c9dfece0",
   "metadata": {},
   "outputs": [
    {
     "name": "stdout",
     "output_type": "stream",
     "text": [
      "id                   0.0\n",
      "type                 0.0\n",
      "subtype              0.0\n",
      "bedroomCount         0.0\n",
      "locality             0.0\n",
      "postCode             0.0\n",
      "habitableSurface     0.0\n",
      "buildingCondition    0.0\n",
      "facedeCount          0.0\n",
      "price                0.0\n",
      "dtype: float64\n"
     ]
    }
   ],
   "source": [
    "na_values = df.isnull().sum()\n",
    "missing_percent = (na_values/ len(df)) * 100\n",
    "print (missing_percent.round(2))"
   ]
  },
  {
   "cell_type": "code",
   "execution_count": 48,
   "id": "dbaee484",
   "metadata": {},
   "outputs": [
    {
     "data": {
      "text/plain": [
       "id                   float64\n",
       "type                  object\n",
       "subtype               object\n",
       "bedroomCount         float64\n",
       "locality              object\n",
       "postCode               int64\n",
       "habitableSurface     float64\n",
       "buildingCondition     object\n",
       "facedeCount          float64\n",
       "price                float64\n",
       "dtype: object"
      ]
     },
     "execution_count": 48,
     "metadata": {},
     "output_type": "execute_result"
    }
   ],
   "source": [
    "df.dtypes"
   ]
  },
  {
   "cell_type": "code",
   "execution_count": 49,
   "id": "b10ba1e8",
   "metadata": {},
   "outputs": [],
   "source": [
    "df.to_csv(\"simpledata.csv\", index=False, encoding='utf-8')"
   ]
  }
 ],
 "metadata": {
  "kernelspec": {
   "display_name": "Python 3",
   "language": "python",
   "name": "python3"
  },
  "language_info": {
   "codemirror_mode": {
    "name": "ipython",
    "version": 3
   },
   "file_extension": ".py",
   "mimetype": "text/x-python",
   "name": "python",
   "nbconvert_exporter": "python",
   "pygments_lexer": "ipython3",
   "version": "3.13.3"
  }
 },
 "nbformat": 4,
 "nbformat_minor": 5
}
