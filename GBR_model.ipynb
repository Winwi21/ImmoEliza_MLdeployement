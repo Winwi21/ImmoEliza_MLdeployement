{
 "cells": [
  {
   "cell_type": "code",
   "execution_count": 1,
   "id": "42da2cdc",
   "metadata": {},
   "outputs": [],
   "source": [
    "import pandas as pd\n",
    "import numpy as np\n",
    "import seaborn as sns\n",
    "import matplotlib.pyplot as plt \n",
    "import matplotlib.ticker as ticker\n",
    "from sklearn.model_selection import cross_val_score, train_test_split\n",
    "from sklearn.ensemble import GradientBoostingRegressor\n",
    "from sklearn.metrics import mean_squared_error, r2_score,mean_absolute_error\n",
    "from sklearn.compose import ColumnTransformer\n",
    "from sklearn.impute import SimpleImputer\n",
    "from sklearn.pipeline import Pipeline\n",
    "from sklearn.preprocessing import OneHotEncoder, StandardScaler"
   ]
  },
  {
   "cell_type": "code",
   "execution_count": 2,
   "id": "9dac7a62",
   "metadata": {},
   "outputs": [],
   "source": [
    "data = 'simpledata.csv'\n",
    "df_data = pd.read_csv(data, sep = ',')\n",
    "df_data = pd.DataFrame(df_data)"
   ]
  },
  {
   "cell_type": "code",
   "execution_count": 3,
   "id": "c64d9536",
   "metadata": {},
   "outputs": [
    {
     "data": {
      "text/plain": [
       "id                   float64\n",
       "type                  object\n",
       "subtype               object\n",
       "bedroomCount         float64\n",
       "locality              object\n",
       "postCode               int64\n",
       "habitableSurface     float64\n",
       "buildingCondition     object\n",
       "facedeCount          float64\n",
       "price                float64\n",
       "dtype: object"
      ]
     },
     "execution_count": 3,
     "metadata": {},
     "output_type": "execute_result"
    }
   ],
   "source": [
    "df_data.dtypes"
   ]
  },
  {
   "cell_type": "code",
   "execution_count": 4,
   "id": "d6464ab8",
   "metadata": {},
   "outputs": [
    {
     "name": "stdout",
     "output_type": "stream",
     "text": [
      "           id  bedroomCount  postCode  habitableSurface  facedeCount  \\\n",
      "0  20661494.0           2.0      1040             100.0          1.0   \n",
      "1  20647642.0           4.0      1040             270.0          2.0   \n",
      "2  20644816.0           2.0      1040              87.0          2.0   \n",
      "3  20659813.0           2.0      1040             104.0          2.0   \n",
      "4  20633249.0           1.0      1040              71.0          2.0   \n",
      "5  20639359.0           2.0      1040              90.0          2.0   \n",
      "6  20634658.0           3.0      1040             220.0          2.0   \n",
      "7  20634657.0           3.0      1040             220.0          2.0   \n",
      "8  20634655.0           2.0      1040             187.0          2.0   \n",
      "9  20651309.0           1.0      1040              93.0          2.0   \n",
      "\n",
      "      price  type_HOUSE  subtype_DUPLEX  subtype_EXCEPTIONAL_PROPERTY  \\\n",
      "0  399000.0       False           False                         False   \n",
      "1  895000.0        True           False                         False   \n",
      "2  465000.0       False           False                         False   \n",
      "3  590000.0       False           False                         False   \n",
      "4  289000.0       False           False                         False   \n",
      "5  375000.0       False           False                         False   \n",
      "6  950000.0       False            True                         False   \n",
      "7  950000.0       False            True                         False   \n",
      "8  795000.0       False            True                         False   \n",
      "9  297000.0       False           False                         False   \n",
      "\n",
      "   subtype_FLAT  ...  locality_Éghezée  locality_Élouges  locality_Érezée  \\\n",
      "0          True  ...             False             False            False   \n",
      "1         False  ...             False             False            False   \n",
      "2          True  ...             False             False            False   \n",
      "3          True  ...             False             False            False   \n",
      "4          True  ...             False             False            False   \n",
      "5          True  ...             False             False            False   \n",
      "6         False  ...             False             False            False   \n",
      "7         False  ...             False             False            False   \n",
      "8         False  ...             False             False            False   \n",
      "9          True  ...             False             False            False   \n",
      "\n",
      "   locality_Étalle  locality_‘s Gravenwezel Schilde  buildingCondition_GOOD  \\\n",
      "0            False                            False                    True   \n",
      "1            False                            False                   False   \n",
      "2            False                            False                   False   \n",
      "3            False                            False                   False   \n",
      "4            False                            False                   False   \n",
      "5            False                            False                   False   \n",
      "6            False                            False                   False   \n",
      "7            False                            False                   False   \n",
      "8            False                            False                   False   \n",
      "9            False                            False                   False   \n",
      "\n",
      "   buildingCondition_JUST_RENOVATED  buildingCondition_TO_BE_DONE_UP  \\\n",
      "0                             False                            False   \n",
      "1                             False                             True   \n",
      "2                             False                            False   \n",
      "3                             False                            False   \n",
      "4                             False                            False   \n",
      "5                             False                             True   \n",
      "6                              True                            False   \n",
      "7                              True                            False   \n",
      "8                             False                            False   \n",
      "9                             False                             True   \n",
      "\n",
      "   buildingCondition_TO_RENOVATE  buildingCondition_TO_RESTORE  \n",
      "0                          False                         False  \n",
      "1                          False                         False  \n",
      "2                          False                         False  \n",
      "3                          False                         False  \n",
      "4                          False                         False  \n",
      "5                          False                         False  \n",
      "6                          False                         False  \n",
      "7                          False                         False  \n",
      "8                          False                         False  \n",
      "9                          False                         False  \n",
      "\n",
      "[10 rows x 5417 columns]\n",
      "id                                  float64\n",
      "bedroomCount                        float64\n",
      "postCode                              int64\n",
      "habitableSurface                    float64\n",
      "facedeCount                         float64\n",
      "                                     ...   \n",
      "buildingCondition_GOOD                 bool\n",
      "buildingCondition_JUST_RENOVATED       bool\n",
      "buildingCondition_TO_BE_DONE_UP        bool\n",
      "buildingCondition_TO_RENOVATE          bool\n",
      "buildingCondition_TO_RESTORE           bool\n",
      "Length: 5417, dtype: object\n"
     ]
    }
   ],
   "source": [
    "df_data= pd.get_dummies(df_data, columns=['type', 'subtype', 'locality', 'buildingCondition', ], drop_first=True)\n",
    "print(df_data.head(10))\n",
    "print(df_data.dtypes)"
   ]
  },
  {
   "cell_type": "code",
   "execution_count": 5,
   "id": "5864a427",
   "metadata": {},
   "outputs": [],
   "source": [
    "# handling data types\n",
    "categorical_features = ['type', 'subtype', 'locality', 'buildingCondition']\n",
    "numeric_features = ['id','bedroomCount', 'postCode', 'habitableSurface', 'facedeCount']\n",
    "\n",
    "categorical_transformer = Pipeline(steps=[\n",
    "    ('impute',SimpleImputer(strategy='most_frequent', fill_value='missing')),  # Impute missing values\n",
    "    ('onehot', OneHotEncoder(handle_unknown='ignore'))])  # Apply OneHotEncoder\n",
    "\n",
    "numeric_transformer = Pipeline(steps=[\n",
    "    ('imputer', SimpleImputer(strategy='mean')),  # Impute missing value\n",
    "    ('scaler', StandardScaler())])  # numeric standardisation"
   ]
  },
  {
   "cell_type": "code",
   "execution_count": 6,
   "id": "c6c22917",
   "metadata": {},
   "outputs": [],
   "source": [
    "preprocessor = ColumnTransformer(\n",
    "    transformers=[\n",
    "        ('num', numeric_transformer, numeric_features),\n",
    "        ('cat', categorical_transformer, categorical_features)])"
   ]
  },
  {
   "cell_type": "code",
   "execution_count": 7,
   "id": "c31c64a6",
   "metadata": {},
   "outputs": [],
   "source": [
    "# 1. Create model GradientBoostingRegressor\n",
    "\n",
    "model_gbr = GradientBoostingRegressor(n_estimators=100,      \n",
    "                                      learning_rate=0.1,    \n",
    "                                      max_depth=4,           \n",
    "                                      random_state=42)\n",
    "\n",
    "# 2. Create Pipeline : \n",
    "pipeline = Pipeline(steps=[('regressor',model_gbr)])\n",
    "\n",
    "# 3. Prepare data for pipeline : \n",
    "X = df_data.drop('price', axis=1)\n",
    "y = df_data['price']\n",
    "\n",
    "#save the columns model for futures predictions\n",
    "model_columns = X.columns\n",
    "\n",
    "# 4. Test_split\n",
    "X_train, X_test, y_train, y_test = train_test_split(X, y, test_size=0.2, random_state=42)"
   ]
  },
  {
   "cell_type": "code",
   "execution_count": 8,
   "id": "8a87b935",
   "metadata": {},
   "outputs": [
    {
     "name": "stdout",
     "output_type": "stream",
     "text": [
      "MAE: 133192.72\n",
      "RMSE: 301605.00\n",
      "R² score : 0.63\n"
     ]
    }
   ],
   "source": [
    "# 1. Train model GradientBoostingRegressor\n",
    "pipeline.fit(X_train, y_train)\n",
    "\n",
    "# 2. Prediction on xtest\n",
    "y_pred_gbr = pipeline.predict(X_test)\n",
    "\n",
    "# 3. Model evaluation\n",
    "mse = mean_squared_error(y_test, y_pred_gbr)\n",
    "MAE = mean_absolute_error(y_test, y_pred_gbr)\n",
    "r2 = r2_score(y_test, y_pred_gbr)\n",
    "\n",
    "print(f\"MAE: {MAE:.2f}\")\n",
    "print(f\"RMSE: {mse**0.5:.2f}\")\n",
    "print(f\"R² score : {r2:.2f}\")"
   ]
  },
  {
   "cell_type": "code",
   "execution_count": 9,
   "id": "9d02541d",
   "metadata": {},
   "outputs": [
    {
     "data": {
      "text/plain": [
       "['gbr_modele.pkl']"
      ]
     },
     "execution_count": 9,
     "metadata": {},
     "output_type": "execute_result"
    }
   ],
   "source": [
    "import joblib\n",
    "joblib.dump(model_gbr, 'gbr_modele.pkl')"
   ]
  }
 ],
 "metadata": {
  "kernelspec": {
   "display_name": "Python 3",
   "language": "python",
   "name": "python3"
  },
  "language_info": {
   "codemirror_mode": {
    "name": "ipython",
    "version": 3
   },
   "file_extension": ".py",
   "mimetype": "text/x-python",
   "name": "python",
   "nbconvert_exporter": "python",
   "pygments_lexer": "ipython3",
   "version": "3.13.3"
  }
 },
 "nbformat": 4,
 "nbformat_minor": 5
}
